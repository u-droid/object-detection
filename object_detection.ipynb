{
 "cells": [
  {
   "cell_type": "code",
   "execution_count": 21,
   "metadata": {},
   "outputs": [],
   "source": [
    "from utils import intersection_over_union"
   ]
  },
  {
   "cell_type": "code",
   "execution_count": 18,
   "metadata": {},
   "outputs": [
    {
     "data": {
      "text/plain": [
       "tensor([1., 2., 2., 3., 3.])"
      ]
     },
     "execution_count": 18,
     "metadata": {},
     "output_type": "execute_result"
    }
   ],
   "source": [
    "import torch\n",
    "a = torch.tensor([1,1,0,1,0])\n",
    "\n",
    "b = torch.cumsum(a, dim=0)/1\n",
    "\n",
    "b"
   ]
  },
  {
   "cell_type": "code",
   "execution_count": 20,
   "metadata": {},
   "outputs": [
    {
     "data": {
      "text/plain": [
       "tensor([2., 1., 2., 2., 3., 3.])"
      ]
     },
     "execution_count": 20,
     "metadata": {},
     "output_type": "execute_result"
    }
   ],
   "source": [
    "torch.cat((torch.tensor([]), b))"
   ]
  },
  {
   "cell_type": "code",
   "execution_count": 2,
   "metadata": {},
   "outputs": [
    {
     "name": "stdout",
     "output_type": "stream",
     "text": [
      "Intersection Area: tensor([[15.]]) \n",
      " Box1 Area: tensor([[20]], dtype=torch.int32) \n",
      " Box2 Area: tensor([[21]], dtype=torch.int32) \n",
      " Union Area: tensor([[26.]])\n"
     ]
    },
    {
     "data": {
      "text/plain": [
       "tensor([[0.5769]])"
      ]
     },
     "execution_count": 2,
     "metadata": {},
     "output_type": "execute_result"
    }
   ],
   "source": [
    "import torch\n",
    "import numpy as np\n",
    "b1 = np.array(\n",
    "    [\n",
    "        [4,5,8,10]\n",
    "    ]\n",
    ")\n",
    "b2 = np.array(\n",
    "    [\n",
    "        [5,3,8,10]\n",
    "    ]\n",
    ")\n",
    "box1 = torch.from_numpy(b1)\n",
    "box2 = torch.from_numpy(b2)\n",
    "\n",
    "intersection_over_union(box1, box2, box_format=\"corners\")\n"
   ]
  },
  {
   "cell_type": "code",
   "execution_count": 9,
   "metadata": {},
   "outputs": [],
   "source": [
    "import cv2\n",
    "\n",
    "# Load the image\n",
    "image = cv2.imread('car.jpg')\n",
    "# Resize the image to a specific width and height\n",
    "resized_image = cv2.resize(image, (840, 640))\n",
    "# Create a window with the specified size\n",
    "cv2.namedWindow('Bounding Box', cv2.WINDOW_NORMAL)\n",
    "cv2.resizeWindow('Bounding Box', 840, 640)\n",
    "# Define the bounding box coordinates\n",
    "x1, y1 = 1750, 1440  # Top-left corner\n",
    "x2, y2 = 3750, 2340  # Bottom-right corner\n",
    "\n",
    "# Draw the bounding box on the image\n",
    "cv2.rectangle(image, (x1, y1), (x2, y2), (0, 0, 255), 4)\n",
    "\n",
    "# Display the image\n",
    "cv2.imshow('Bounding Box', image)\n",
    "cv2.waitKey(0)\n",
    "cv2.destroyAllWindows()"
   ]
  },
  {
   "cell_type": "code",
   "execution_count": 27,
   "metadata": {},
   "outputs": [],
   "source": [
    "import cv2\n",
    "import numpy as np\n",
    "\n",
    "# Load YOLO network\n",
    "net = cv2.dnn.readNet('yolov3.weights', 'yolov3.cfg')\n",
    "\n",
    "# Load class labels\n",
    "classes = []\n",
    "with open('coco.names', 'r') as f:\n",
    "    classes = [line.strip() for line in f.readlines()]"
   ]
  },
  {
   "cell_type": "code",
   "execution_count": 40,
   "metadata": {},
   "outputs": [],
   "source": [
    "# Load image\n",
    "image = cv2.imread('car.jpg')\n",
    "image = cv2.resize(image, (840, 640))\n",
    "# Prepare input blob\n",
    "blob = cv2.dnn.blobFromImage(image, 1/255.0, (416, 416), swapRB=True, crop=False)\n",
    "\n",
    "# Set the input blob to the network\n",
    "net.setInput(blob)\n",
    "\n",
    "# Forward pass through the network to get detections\n",
    "output_layers_names = net.getUnconnectedOutLayersNames()\n",
    "layer_outputs = net.forward(output_layers_names)\n",
    "\n",
    "# Process the output detections\n",
    "for output in layer_outputs:\n",
    "    for detection in output:\n",
    "        scores = detection[5:]\n",
    "        class_id = np.argmax(scores)\n",
    "        confidence = scores[class_id]\n",
    "\n",
    "        if confidence > 0.5:  # Set a minimum confidence threshold\n",
    "            # Get the bounding box coordinates\n",
    "            center_x = int(detection[0] * image.shape[1])\n",
    "            center_y = int(detection[1] * image.shape[0])\n",
    "            width = int(detection[2] * image.shape[1])\n",
    "            height = int(detection[3] * image.shape[0])\n",
    "\n",
    "            # Calculate top-left corner coordinates of the bounding box\n",
    "            x = int(center_x - width / 2)\n",
    "            y = int(center_y - height / 2)\n",
    "\n",
    "            # Draw the bounding box and label on the image\n",
    "            cv2.rectangle(image, (x, y), (x + width, y + height), (0, 255, 0), 2)\n",
    "            label = f'{classes[class_id]}: {confidence:.2f}'\n",
    "            cv2.putText(image, label, (x, y - 10), cv2.FONT_HERSHEY_SIMPLEX,0.5, (0, 255, 0), 2)\n",
    "        \n"
   ]
  },
  {
   "cell_type": "code",
   "execution_count": 41,
   "metadata": {},
   "outputs": [],
   "source": [
    "# Create a window with the specified size\n",
    "cv2.namedWindow('Bounding Box', cv2.WINDOW_NORMAL)\n",
    "cv2.resizeWindow('Bounding Box', 840, 640)\n",
    "cv2.imshow('Bounding Box', image)\n",
    "cv2.waitKey(0)\n",
    "cv2.destroyAllWindows()"
   ]
  }
 ],
 "metadata": {
  "kernelspec": {
   "display_name": "deeplr",
   "language": "python",
   "name": "deeplr"
  },
  "language_info": {
   "codemirror_mode": {
    "name": "ipython",
    "version": 3
   },
   "file_extension": ".py",
   "mimetype": "text/x-python",
   "name": "python",
   "nbconvert_exporter": "python",
   "pygments_lexer": "ipython3",
   "version": "3.8.0"
  }
 },
 "nbformat": 4,
 "nbformat_minor": 4
}
